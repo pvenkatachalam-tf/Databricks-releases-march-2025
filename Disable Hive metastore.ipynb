{
 "cells": [
  {
   "cell_type": "markdown",
   "metadata": {
    "application/vnd.databricks.v1+cell": {
     "cellMetadata": {},
     "inputWidgets": {},
     "nuid": "1c577149-5822-4f03-8c3d-2bdacd31cdf8",
     "showTitle": false,
     "tableResultSettingsMap": {},
     "title": ""
    }
   },
   "source": [
    "# ⚙️ Unity Catalog vs Hive Metastore\n",
    "\n",
    "## Unity Catalog:\n",
    "- **Centralized Governance**: Access control, auditing, and data lineage for all data assets.\n",
    "- **Granular Permissions**: Control at table, column, and row levels.\n",
    "- **Unified Catalog**: Consistent catalog across all Databricks workspaces.\n",
    "- **Built-in Security**: Integrated with Databricks' roles, policies, and ACLs.\n",
    "- **Multicloud Support**: Works across Azure, AWS, GCP.\n",
    "\n",
    "## Hive Metastore (Legacy):\n",
    "- **Decentralized**: Tied to individual clusters, harder to manage across workspaces.\n",
    "- **Basic Permissions**: Limited control at the database and table levels.\n",
    "- **Limited Security Integration**: Requires external tools for some access control.\n",
    "- **Environment-Specific**: Supports fewer tools compared to Unity Catalog.\n",
    "\n",
    "---\n",
    "\n",
    "Unity Catalog provides advanced security, governance, and management, making it the preferred choice over the Hive Metastore.\n"
   ]
  },
  {
   "cell_type": "markdown",
   "metadata": {
    "application/vnd.databricks.v1+cell": {
     "cellMetadata": {
      "byteLimit": 2048000,
      "rowLimit": 10000
     },
     "inputWidgets": {},
     "nuid": "8291a2a6-b1b1-4154-8e50-8d90eca66911",
     "showTitle": false,
     "tableResultSettingsMap": {},
     "title": ""
    }
   },
   "source": [
    "# 🚫 Disabling Hive Metastore (Legacy) (Public Preview)\n",
    "\n",
    "## Steps to Migrate\n",
    "\n",
    "### Step 1: Migrate All Tables from Hive Store\n",
    "Ensure that all the tables from the Hive metastore are migrated to Unity Catalog.\n",
    "\n",
    "### Step 2: Upgrade All Jobs to Databricks Runtime 13.3 LTS or Above\n",
    "Ensure that all jobs are upgraded to Databricks Runtime 13.3 LTS or higher to maintain compatibility with Unity Catalog.\n",
    "\n",
    "---\n",
    "\n",
    "## What Happens After Disabling the Hive Metastore\n",
    "\n",
    "- ❌ Any jobs running against tables registered to the **Hive Metastore** will fail.\n",
    "- ❌ Fallback mode is disabled.\n",
    "- ❌ Jobs running on Databricks Runtime versions below 13.3 will fail.  \n",
    "  *Currently running jobs will continue to work until they are terminated, but restarts on those clusters will fail.*\n",
    "- 🚫 The **Legacy** heading and **hive_metastore** catalog will disappear from the **Catalog Explorer** browser pane.\n",
    "- ❌ SQL commands that attempt to show the contents of the **hive_metastore** catalog will fail.\n",
    "\n",
    "### 🔄 Fallback Mode in Unity Catalog\n",
    "Fallback mode allows bypassing permission checks during migration, ensuring unmigrated workloads continue using existing credentials. It should be **disabled** after migration.\n",
    "\n",
    "---\n",
    "\n",
    "## Disable Legacy Access (Workspace Admin Setting)\n",
    "\n",
    "1. As a **workspace admin**, log in to your **Databricks** workspace.\n",
    "2. Click the **user profile menu** at the top right and select **Settings** from the menu.\n",
    "3. Go to **Workspace admin > Security**.\n",
    "4. Set **Disable legacy access** to **Disabled**: This ensures that legacy access features cannot be used.\n",
    "5. To ensure that the new setting has taken effect, wait approximately **five minutes**.\n",
    "6. Restart all running clusters.\n",
    "\n",
    "---\n",
    "\n",
    "## Disable Access for Individual Compute Clusters\n",
    "\n",
    "You can disable direct access gradually, on a **cluster-by-cluster** basis:\n",
    "\n",
    "1. Skip the steps in the previous section.\n",
    "2. Set the following Spark configuration on any non-serverless cluster:\n",
    "\n",
    "```bash\n",
    "spark.databricks.unityCatalogOnlyMode True\n"
   ]
  },
  {
   "cell_type": "code",
   "execution_count": 0,
   "metadata": {
    "application/vnd.databricks.v1+cell": {
     "cellMetadata": {},
     "inputWidgets": {},
     "nuid": "414ae56b-68ca-4736-a0ed-918f92b3b242",
     "showTitle": false,
     "tableResultSettingsMap": {},
     "title": ""
    }
   },
   "outputs": [],
   "source": []
  }
 ],
 "metadata": {
  "application/vnd.databricks.v1+notebook": {
   "computePreferences": null,
   "dashboards": [],
   "environmentMetadata": {
    "base_environment": "",
    "environment_version": "2"
   },
   "inputWidgetPreferences": null,
   "language": "python",
   "notebookMetadata": {
    "pythonIndentUnit": 4
   },
   "notebookName": "Disable Hive metastore",
   "widgets": {}
  },
  "language_info": {
   "name": "python"
  }
 },
 "nbformat": 4,
 "nbformat_minor": 0
}