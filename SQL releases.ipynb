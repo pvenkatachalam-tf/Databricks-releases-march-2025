{
 "cells": [
  {
   "cell_type": "markdown",
   "metadata": {
    "application/vnd.databricks.v1+cell": {
     "cellMetadata": {},
     "inputWidgets": {},
     "nuid": "ba0c06df-acca-4417-98f0-86112ac98782",
     "showTitle": false,
     "tableResultSettingsMap": {},
     "title": ""
    }
   },
   "source": [
    "# SQL Scripting in Databricks (Public Preview)\n",
    "\n",
    "Databricks SQL Scripting provides powerful procedural logic using SQL/PSM syntax. It enables creating compound statements, control flow, and exception handling.\n",
    "\n",
    "## Key Features:\n",
    "- **Flow Control**: Loops, conditional logic (IF, CASE), and control flow (LEAVE, ITERATE).\n",
    "- **DDL & DML**: Supports ALTER, CREATE, INSERT, UPDATE, DELETE, and MERGE.\n",
    "- **Condition Handling**: Handle exceptions with SQLSTATE or user-defined conditions.\n",
    "- **Data Passing**: Pass data using session variables or parameter markers.\n",
    "- **Variable Scoping**: Supports inner and outer variable scopes.\n",
    "\n",
    "For more details: [SQL Scripting Docs](https://docs.databricks.com/aws/en/sql/language-manual/sql-ref-scripting)\n"
   ]
  },
  {
   "cell_type": "code",
   "execution_count": 0,
   "metadata": {
    "application/vnd.databricks.v1+cell": {
     "cellMetadata": {},
     "inputWidgets": {},
     "nuid": "b621f7b3-7e3c-41e9-be7f-0562fb66ae11",
     "showTitle": false,
     "tableResultSettingsMap": {},
     "title": ""
    }
   },
   "outputs": [],
   "source": [
    "#Flow Control (IF statement)\n",
    "DECLARE @user_type STRING;\n",
    "\n",
    "SET @user_type = 'admin';\n",
    "\n",
    "IF @user_type = 'admin' THEN\n",
    "  SELECT 'Admin Access' AS Access;\n",
    "ELSE\n",
    "  SELECT 'User Access' AS Access;\n",
    "END IF;\n",
    "\n",
    "\n"
   ]
  },
  {
   "cell_type": "code",
   "execution_count": 0,
   "metadata": {
    "application/vnd.databricks.v1+cell": {
     "cellMetadata": {},
     "inputWidgets": {},
     "nuid": "70e840e4-7ae1-4173-9e2c-953e41a96fa6",
     "showTitle": false,
     "tableResultSettingsMap": {},
     "title": ""
    }
   },
   "outputs": [],
   "source": [
    "#Looping (WHILE loop)\n",
    "DECLARE @counter INT DEFAULT 1;\n",
    "\n",
    "WHILE @counter <= 5 DO\n",
    "  SELECT @counter;\n",
    "  SET @counter = @counter + 1;\n",
    "END WHILE;\n"
   ]
  },
  {
   "cell_type": "code",
   "execution_count": 0,
   "metadata": {
    "application/vnd.databricks.v1+cell": {
     "cellMetadata": {},
     "inputWidgets": {},
     "nuid": "74d70cda-6b27-423d-a950-901dee37aadd",
     "showTitle": false,
     "tableResultSettingsMap": {},
     "title": ""
    }
   },
   "outputs": [],
   "source": [
    "# Exception Handling\n",
    "BEGIN TRY\n",
    "  -- Sample query that might throw an error\n",
    "  SELECT * FROM non_existing_table;\n",
    "END TRY\n",
    "BEGIN CATCH\n",
    "  SELECT 'An error occurred' AS ErrorMessage;\n",
    "END CATCH;\n",
    "\n"
   ]
  },
  {
   "cell_type": "markdown",
   "metadata": {
    "application/vnd.databricks.v1+cell": {
     "cellMetadata": {},
     "inputWidgets": {},
     "nuid": "51c59d8c-4e26-4453-9f9f-c7ddeef5bf59",
     "showTitle": false,
     "tableResultSettingsMap": {},
     "title": ""
    }
   },
   "source": [
    "\n",
    "## Edit Multiple Columns using ALTER TABLE\n",
    "You can now alter multiple columns in a single `ALTER TABLE` statement, simplifying schema modifications. This eliminates the need to alter columns individually.\n",
    "\n",
    "- **Documentation**: [ALTER TABLE … COLUMN clause](https://docs.databricks.com/aws/en/sql/language-manual/sql-ref-syntax-ddl-alter-table-manage-column)\n",
    "\n",
    "## Table and View Level Default Collation\n",
    "Databricks now supports specifying a default collation for tables and views. This simplifies creating tables and views where most or all columns share the same collation, improving consistency.\n",
    "- **Collation** defines how strings are sorted and compared, often influencing the behavior of queries involving string comparison. Databricks now allows specifying a default collation at the table or view level, which simplifies data consistency.\n",
    "\n",
    "- **Learn more about Collation**: [Collation Reference](https://docs.databricks.com/aws/en/sql/language-manual/sql-ref-collation)\n",
    "\n",
    "## Delta Table Protocol Downgrade with Checkpoint Protection (GA)\n",
    "The `DROP FEATURE` functionality is now generally available for downgrading Delta table protocols. It optimizes the downgrade process with checkpoint protection, ensuring no waiting time or history truncation.\n",
    "- **Delta Table Protocol Downgrade**: The DROP FEATURE operation now includes protected checkpoints to make the downgrade of table protocols more efficient and hassle-free.\n",
    "\n"
   ]
  },
  {
   "cell_type": "code",
   "execution_count": 0,
   "metadata": {
    "application/vnd.databricks.v1+cell": {
     "cellMetadata": {},
     "inputWidgets": {},
     "nuid": "390f8887-1cb9-475e-bef1-70a5ea00fef0",
     "showTitle": false,
     "tableResultSettingsMap": {},
     "title": ""
    }
   },
   "outputs": [],
   "source": [
    "%sql\n",
    "-- ALter multiple columns\n",
    "\n",
    "ALTER TABLE my_table \n",
    "    ADD COLUMNS (new_column1 STRING, new_column2 INT), \n",
    "    ALTER COLUMN existing_column1 SET DATA TYPE STRING, \n",
    "    ALTER COLUMN existing_column2 SET DATA TYPE DOUBLE;\n"
   ]
  }
 ],
 "metadata": {
  "application/vnd.databricks.v1+notebook": {
   "computePreferences": null,
   "dashboards": [],
   "environmentMetadata": {
    "base_environment": "",
    "environment_version": "2"
   },
   "inputWidgetPreferences": null,
   "language": "python",
   "notebookMetadata": {
    "pythonIndentUnit": 4
   },
   "notebookName": "SQL releases",
   "widgets": {}
  },
  "language_info": {
   "name": "python"
  }
 },
 "nbformat": 4,
 "nbformat_minor": 0
}