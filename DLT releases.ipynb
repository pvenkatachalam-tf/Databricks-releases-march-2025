{
 "cells": [
  {
   "cell_type": "markdown",
   "metadata": {
    "application/vnd.databricks.v1+cell": {
     "cellMetadata": {},
     "inputWidgets": {},
     "nuid": "e9389d60-7e65-4374-8bc3-aa07e2542164",
     "showTitle": false,
     "tableResultSettingsMap": {},
     "title": ""
    }
   },
   "source": [
    "# CREATE PRIVATE for DLT Pipelines\n",
    "\n",
    "- **CREATE PRIVATE MATERIALIZED VIEW / STREAMING TABLE**: Now supported in DLT pipelines. Use the `PRIVATE` parameter to create materialized views or streaming tables without publishing them to a catalog. \n",
    "- In Databricks, using the PRIVATE keyword allows you to create materialized views or streaming tables in DLT pipelines that are not exposed to the catalog. These private objects exist only within the pipeline and are not discoverable or accessible from outside the pipeline context. This provides a way to manage internal, pipeline-specific data transformations without making them part of the broader catalog, helping maintain better data isolation and control within a pipeline.\n",
    "\n",
    "- **CREATE TEMPORARY VIEW**: You can create temporary views in DLT pipelines that are only persisted within the pipeline.  \n",
    "\n",
    "- **Improved INITIALIZING performance**: Pipeline update performance has been enhanced.\n"
   ]
  },
  {
   "cell_type": "code",
   "execution_count": 0,
   "metadata": {
    "application/vnd.databricks.v1+cell": {
     "cellMetadata": {},
     "inputWidgets": {},
     "nuid": "ab0b188a-e419-49f2-b093-842fd67da77d",
     "showTitle": false,
     "tableResultSettingsMap": {},
     "title": ""
    }
   },
   "outputs": [],
   "source": []
  }
 ],
 "metadata": {
  "application/vnd.databricks.v1+notebook": {
   "computePreferences": null,
   "dashboards": [],
   "environmentMetadata": {
    "base_environment": "",
    "environment_version": "2"
   },
   "inputWidgetPreferences": null,
   "language": "python",
   "notebookMetadata": {
    "pythonIndentUnit": 4
   },
   "notebookName": "DLT releases",
   "widgets": {}
  },
  "language_info": {
   "name": "python"
  }
 },
 "nbformat": 4,
 "nbformat_minor": 0
}