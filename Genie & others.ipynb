{
 "cells": [
  {
   "cell_type": "markdown",
   "metadata": {
    "application/vnd.databricks.v1+cell": {
     "cellMetadata": {},
     "inputWidgets": {},
     "nuid": "617270c5-c7fd-45f6-9ee7-beaa83d85388",
     "showTitle": false,
     "tableResultSettingsMap": {},
     "title": ""
    }
   },
   "source": [
    "## 🤖 What is Databricks Genie?\n",
    "\n",
    "**Databricks Genie** is the AI assistant built into the Databricks Data Intelligence Platform. It is designed to help data teams work more efficiently by combining the power of generative AI with the full capabilities of the Databricks ecosystem.\n",
    "\n",
    "---\n",
    "\n",
    "### 🌟 Key Capabilities of Databricks Genie\n",
    "\n",
    "#### 1. 🔍 Natural Language to Code\n",
    "- **Translate plain English** into Python, SQL, Scala, or R.\n",
    "- Quickly **generate notebooks**, **queries**, or **code snippets** without manual coding.\n",
    "- Ideal for data analysts and scientists who want to accelerate development.\n",
    "\n",
    "#### 2. 📊 Explore and Understand Data\n",
    "- Ask Genie questions like:\n",
    "  - \"What does this column represent?\"\n",
    "  - \"Are there missing values in this table?\"\n",
    "  - \"Can you summarize this dataset?\"\n",
    "- Get **auto-generated visualizations** and data profiles.\n",
    "\n",
    "#### 3. 🛠️ Notebooks & Workflows Assistant\n",
    "- Auto-complete complex functions.\n",
    "- Help debug code and suggest improvements.\n",
    "- Integrates seamlessly with **Delta Live Tables**, **Unity Catalog**, and **MLflow**.\n",
    "\n",
    "#### 4. 📁 File Uploads & REST API Access (New!)\n",
    "- Upload files directly into Genie for analysis or modeling.\n",
    "- Use REST APIs to automate and integrate Genie with external applications.\n",
    "\n",
    "#### 5. 🔐 Secure & Governed\n",
    "- Fully integrated with **Unity Catalog** for data governance and lineage.\n",
    "- Genie respects existing **permissions and access controls**, ensuring data privacy.\n",
    "\n",
    "#### 6. 🤝 Collaboration & Sharing\n",
    "- Helps generate **documentation** and **markdown summaries**.\n",
    "- Streamlines collaboration by reducing the need for manual explanations.\n",
    "\n",
    "---\n",
    "\n",
    "### 🚀 Use Cases\n",
    "- Speeding up **data exploration** and **insight generation**\n",
    "- Automating **ETL pipeline creation**\n",
    "- Assisting in **ML model development**\n",
    "- Supporting **data governance** tasks with lineage and metadata insights\n",
    "\n",
    "---\n",
    "\n",
    "Databricks Genie empowers both technical and non-technical users to unlock the full value of data by making Databricks more accessible, intelligent, and productive.\n",
    "\n"
   ]
  },
  {
   "cell_type": "markdown",
   "metadata": {
    "application/vnd.databricks.v1+cell": {
     "cellMetadata": {},
     "inputWidgets": {},
     "nuid": "9d66a415-92eb-4686-824d-8bcd5cbf639f",
     "showTitle": false,
     "tableResultSettingsMap": {},
     "title": ""
    }
   },
   "source": [
    "## ⚠️ Note for All\n",
    "\n",
    "### 🖥️ Web Terminal Activity Now Counts as Compute Activity\n",
    "\n",
    "- **What's New**: Activity in the **Databricks Web Terminal** is now considered **compute activity**.\n",
    "- **Implication**: If your compute cluster is configured to **auto-terminate after inactivity**, it **will no longer terminate** if there is:\n",
    "  - Active usage in the **web terminal**\n",
    "  - Terminal usage through a **notebook**\n",
    "\n",
    "### ✅ Why It Matters\n",
    "This helps avoid unexpected termination during debugging, file operations, or script execution done through the terminal.\n",
    "\n",
    "> 📌 **Best Practice**: Always monitor terminal usage and explicitly shut down clusters when work is complete to avoid unexpected costs.\n"
   ]
  },
  {
   "cell_type": "markdown",
   "metadata": {
    "application/vnd.databricks.v1+cell": {
     "cellMetadata": {},
     "inputWidgets": {},
     "nuid": "b5f0667a-9673-4898-9171-4ebf3029a122",
     "showTitle": false,
     "tableResultSettingsMap": {},
     "title": ""
    }
   },
   "source": [
    "## 🔁 Delta Sharing Update: Table Rename Support & Share Management\n",
    "\n",
    "### 🧠 What is Delta Sharing?\n",
    "Delta Sharing is an **open protocol** for secure data sharing across organizations — **without copying data**. It enables real-time data collaboration using Delta Lake on Unity Catalog.\n",
    "\n",
    "---\n",
    "\n",
    "### ✨ What's New?\n",
    "\n",
    "#### ✅ Delta Sharing Now Supports Table Rename\n",
    "- When a **provider renames a shared table**, the change is **automatically reflected** on the recipient’s side.\n",
    "- ⚠️ This **prevents errors** and **improves schema evolution** during collaboration.\n",
    "\n",
    "#### 🔧 More Share Management Capabilities\n",
    "You can now perform the following updates on existing shares:\n",
    "- Rename shares and **table aliases** (display name to recipient).\n",
    "- Add or remove:\n",
    "  - Tables\n",
    "  - Views\n",
    "  - Volumes\n",
    "  - Schemas\n",
    "- Add or update **comments**.\n",
    "- Enable/disable **table history access** (for time travel or streaming).\n",
    "- Manage **partition definitions**.\n",
    "- Change **ownership** of a share.\n",
    "\n",
    "> 🛠️ These changes can be made via:\n",
    "> - Catalog Explorer\n",
    "> - Unity Catalog CLI\n",
    "> - SQL (Notebook or SQL Editor)\n",
    "\n",
    "❌ *Note*: Catalog Explorer **does not support renaming the share itself.*\n",
    "\n",
    "---\n",
    "\n",
    "### 🔒 Required Permissions\n",
    "- **Rename share** ➝ Metastore admin or owner with `CREATE_SHARE`\n",
    "- **Change share owner** ➝ Metastore admin / owner / user with `USE SHARE` + `SET SHARE PERMISSION`\n",
    "- **Other updates** ➝ Share owner\n",
    "\n",
    "---\n",
    "\n",
    "### ⚠️ Implications for Data Engineers\n",
    "\n",
    "- **Data Lineage Impact**: Renamed tables might affect tools/scripts relying on **hardcoded table names**.\n",
    "- **Auditing Considerations**: Ensure governance teams are aware of alias/table name changes.\n",
    "- **Dependency Management**: Communicate rename changes with downstream consumers to avoid **silent data drift**.\n",
    "- **Permission Awareness**: Carefully manage privileges to avoid unauthorized updates.\n",
    "\n",
    "> ✅ **Best Practice**: Use **descriptive aliases**, maintain clear change logs, and test rename scenarios in lower environments.\n",
    "\n"
   ]
  },
  {
   "cell_type": "markdown",
   "metadata": {
    "application/vnd.databricks.v1+cell": {
     "cellMetadata": {},
     "inputWidgets": {},
     "nuid": "791ae172-f607-444d-a531-3bf1acb2edd8",
     "showTitle": false,
     "tableResultSettingsMap": {},
     "title": ""
    }
   },
   "source": [
    "## 🔐 OIDC Federation for Databricks-to-open Delta Sharing (Public Preview)\n",
    "\n",
    "### 🎯 Overview\n",
    "- **OIDC Federation** allows **recipients** to use their own **identity provider (IdP)** for accessing **Delta Sharing** shares in Databricks.\n",
    "- The authentication flow uses **Open ID Connect (OIDC)** token federation to exchange JWTs for **short-lived OAuth tokens** issued by Databricks.\n",
    "- This enables recipients without access to a Unity Catalog-enabled Databricks workspace to authenticate.\n",
    "\n",
    "### ✅ Benefits\n",
    "- **Fine-Grained Access Control**: More control over data access.\n",
    "- **Supports MFA**: Enhances security with Multi-Factor Authentication.\n",
    "- **Eliminates Shared Credentials**: No need for recipients to manage long-lived Databricks tokens, reducing security risks.\n",
    "\n",
    "### 🔧 Use Cases\n",
    "- **User-to-Machine (U2M)**: Power BI, Tableau users authenticate via their IdP.\n",
    "- **Machine-to-Machine (M2M)**: OAuth client credentials for Python client apps.\n",
    "\n",
    "### ⚠️ Public Preview\n",
    "- This feature is currently in **Public Preview**. To request access, **contact your Databricks representative**.\n",
    "\n",
    "> 📝 **Reference**: [Use Open ID Connect (OIDC) federation to enable authentication to Delta Sharing shares](#)\n"
   ]
  },
  {
   "cell_type": "markdown",
   "metadata": {
    "application/vnd.databricks.v1+cell": {
     "cellMetadata": {},
     "inputWidgets": {},
     "nuid": "555c0381-a8f5-41ac-80d9-b7d6bf8eab44",
     "showTitle": false,
     "tableResultSettingsMap": {},
     "title": ""
    }
   },
   "source": [
    "# 🛠️ Bind Storage Credentials, Service Credentials, and External Locations to Specific Workspaces (GA)\n",
    "\n",
    "\n",
    "## Overview\n",
    "The ability to bind **storage credentials**, **service credentials**, and **external locations** to specific workspaces is now **generally available**. This feature provides enhanced security and access control by preventing unauthorized access to these objects from other workspaces.\n",
    "\n",
    "## Key Features\n",
    "\n",
    "- **Workspace Binding**: You can bind sensitive resources such as storage credentials and service credentials directly to specific workspaces.\n",
    "- **Improved Security**: By isolating access to these resources, you can ensure that only users within the specific workspace have access to the sensitive data and services.\n",
    "- **Ideal for Data Isolation**: This feature is especially useful for scenarios where workspaces are used to isolate user data access, such as:\n",
    "  - Separate **production** and **development** environments.\n",
    "  - Dedicated workspaces for handling **sensitive data**.\n",
    "\n",
    "## Benefits\n",
    "\n",
    "- **Enhanced Access Control**: Ensure that users in one workspace cannot inadvertently or maliciously access resources in another workspace.\n",
    "- **Streamlined Data Governance**: Helps in better data management and governance across different environments within the organization.\n",
    "- **Granular Permissions**: Provides a more granular approach to managing permissions and resources based on workspace-specific needs.\n",
    "\n",
    "## Use Case Scenarios\n",
    "\n",
    "- **Development and Production Environments**: If you have separate workspaces for production and development, workspace binding ensures that only the relevant workspace can access sensitive data and resources.\n",
    "- **Sensitive Data Handling**: For teams working with confidential or regulated data, such as financial or personal information, this feature ensures that access is strictly controlled within a dedicated workspace.\n",
    "\n",
    "## Conclusion\n",
    "This feature brings improved security and data isolation capabilities, making it easier for organizations to manage their resources and enforce strict access policies across multiple workspaces.\n"
   ]
  },
  {
   "cell_type": "code",
   "execution_count": 0,
   "metadata": {
    "application/vnd.databricks.v1+cell": {
     "cellMetadata": {},
     "inputWidgets": {},
     "nuid": "08462bf2-5115-4d78-8876-0f61ba0cc8d6",
     "showTitle": false,
     "tableResultSettingsMap": {},
     "title": ""
    }
   },
   "outputs": [],
   "source": []
  }
 ],
 "metadata": {
  "application/vnd.databricks.v1+notebook": {
   "computePreferences": null,
   "dashboards": [],
   "environmentMetadata": {
    "base_environment": "",
    "environment_version": "2"
   },
   "inputWidgetPreferences": null,
   "language": "python",
   "notebookMetadata": {
    "pythonIndentUnit": 4
   },
   "notebookName": "Genie & others",
   "widgets": {}
  },
  "language_info": {
   "name": "python"
  }
 },
 "nbformat": 4,
 "nbformat_minor": 0
}