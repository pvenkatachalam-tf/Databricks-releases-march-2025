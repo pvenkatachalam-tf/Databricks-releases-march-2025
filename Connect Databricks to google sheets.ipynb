{
 "cells": [
  {
   "cell_type": "markdown",
   "metadata": {
    "application/vnd.databricks.v1+cell": {
     "cellMetadata": {},
     "inputWidgets": {},
     "nuid": "8be1a194-fb2d-4976-9c83-95d0dca77544",
     "showTitle": false,
     "tableResultSettingsMap": {},
     "title": ""
    }
   },
   "source": [
    "\n",
    "# 📊 Connect to Azure Databricks from Google Sheets\n",
    "\n",
    "1. In Google Sheets, go to:\n",
    "   - **Extensions** > **Add-ons** > **Get add-ons**\n",
    "   - Search for **Databricks Connector**, then **Install** it.\n",
    "   - After installation, click **Launch sidebar** to open the connector.\n",
    "\n",
    "   ![Google Sheets Menubar](https://learn.microsoft.com/en-us/azure/databricks/_static/images/google-sheets/sheets-menubar.png)\n",
    "\n",
    "2. Enter your **Databricks workspace URL**.\n",
    "\n",
    "3. Click **Sign in**.\n",
    "   - A dialog will prompt you to sign in to your Databricks account or confirm you're logged in.\n",
    "\n",
    "4. On the **Databricks Connector** sidebar:\n",
    "   - Select a **SQL warehouse** to use.\n",
    "\n",
    "   ![Google Sheets Sidebar](https://learn.microsoft.com/en-us/azure/databricks/_static/images/google-sheets/sheets-sidebar.png)\n",
    "\n",
    "5. Enter your **SQL query** in the sidebar.\n",
    "\n",
    "6. In Google Sheets, select the **cell** where you want the query results to appear.\n",
    "\n",
    "7. Click **Run**.\n",
    "\n",
    "✅ Google Sheets will populate with the query results starting from the selected cell.\n",
    "\n",
    "\n"
   ]
  },
  {
   "cell_type": "code",
   "execution_count": 0,
   "metadata": {
    "application/vnd.databricks.v1+cell": {
     "cellMetadata": {},
     "inputWidgets": {},
     "nuid": "7ad3216d-2142-4c12-8613-3c29cacf31ec",
     "showTitle": false,
     "tableResultSettingsMap": {},
     "title": ""
    }
   },
   "outputs": [],
   "source": []
  }
 ],
 "metadata": {
  "application/vnd.databricks.v1+notebook": {
   "computePreferences": null,
   "dashboards": [],
   "environmentMetadata": {
    "base_environment": "",
    "environment_version": "2"
   },
   "inputWidgetPreferences": null,
   "language": "python",
   "notebookMetadata": {
    "pythonIndentUnit": 4
   },
   "notebookName": "Connect Databricks to google sheets",
   "widgets": {}
  },
  "language_info": {
   "name": "python"
  }
 },
 "nbformat": 4,
 "nbformat_minor": 0
}