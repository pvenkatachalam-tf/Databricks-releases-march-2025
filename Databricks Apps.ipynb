{
 "cells": [
  {
   "cell_type": "markdown",
   "metadata": {
    "application/vnd.databricks.v1+cell": {
     "cellMetadata": {},
     "inputWidgets": {},
     "nuid": "556170cc-a625-40fd-8f7d-30cf6f7af688",
     "showTitle": false,
     "tableResultSettingsMap": {},
     "title": ""
    }
   },
   "source": [
    "# 🧩 Databricks Apps: Build and Deploy Data & AI Applications Natively\n",
    "\n",
    "**Databricks Apps** is a feature that enables developers to create, deploy, and manage interactive data and AI applications directly within the Databricks environment. This eliminates the need for external infrastructure, allowing seamless integration with Databricks' data and AI capabilities.\n",
    "\n",
    "## 🚀 Key Features\n",
    "\n",
    "- **Native Development**: Build applications using popular Python frameworks like Streamlit, Dash, Flask, Gradio, and FastAPI.\n",
    "- **Serverless Deployment**: Deploy apps without managing infrastructure; Databricks handles the hosting.\n",
    "- **Integrated Security**: Utilize Databricks' existing authentication and authorization mechanisms, including Unity Catalog for data governance.\n",
    "- **Rapid Development**: Quickly iterate and deploy applications, accelerating the delivery of data-driven solutions.\n",
    "\n"
   ]
  },
  {
   "cell_type": "markdown",
   "metadata": {
    "application/vnd.databricks.v1+cell": {
     "cellMetadata": {},
     "inputWidgets": {},
     "nuid": "f4331557-fa7a-4c34-ab93-bc1d188b5145",
     "showTitle": false,
     "tableResultSettingsMap": {},
     "title": ""
    }
   },
   "source": [
    "## 📢 Databricks Apps: On-Behalf-Of-User Authorization (Public Preview)\n",
    "\n",
    "**Release Date:** March 26, 2025  \n",
    "**Feature Status:** Public Preview\n",
    "\n",
    "### 🔐 What’s New?\n",
    "Databricks Apps can now leverage **on-behalf-of-user authorization** to interact with resources using the **exact permissions granted to the app user**. This ensures that app operations on sensitive resources like:\n",
    "- Unity Catalog-managed tables\n",
    "- Model serving endpoints  \n",
    "are executed only if the app user has the necessary access.\n",
    "\n",
    "### 🎯 Why It Matters\n",
    "This feature:\n",
    "- Improves **security and access control** granularity.\n",
    "- Supports **user-specific access patterns** within apps.\n",
    "- Helps maintain **compliance** when apps handle sensitive data.\n",
    "\n",
    "### 📌 Use Case Example\n",
    "Imagine an internal app that lets analysts explore production data. With on-behalf-of-user authorization:\n",
    "- Analysts only see data they’re permitted to view.\n",
    "- Admins can enforce row-level and column-level security through UC.\n",
    "\n",
    "\n"
   ]
  }
 ],
 "metadata": {
  "application/vnd.databricks.v1+notebook": {
   "computePreferences": null,
   "dashboards": [],
   "environmentMetadata": {
    "base_environment": "",
    "environment_version": "2"
   },
   "inputWidgetPreferences": null,
   "language": "python",
   "notebookMetadata": {
    "pythonIndentUnit": 4
   },
   "notebookName": "Databricks Apps",
   "widgets": {}
  },
  "language_info": {
   "name": "python"
  }
 },
 "nbformat": 4,
 "nbformat_minor": 0
}