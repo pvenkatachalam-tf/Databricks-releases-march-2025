{
 "cells": [
  {
   "cell_type": "markdown",
   "metadata": {
    "application/vnd.databricks.v1+cell": {
     "cellMetadata": {},
     "inputWidgets": {},
     "nuid": "b1cb1182-b9c7-474b-b5d1-212059cd1946",
     "showTitle": false,
     "tableResultSettingsMap": {},
     "title": ""
    }
   },
   "source": [
    "# ⚠️ Deprecation Notice: Legacy System Schemas\n",
    "\n",
    "The following **legacy system schemas** are **deprecated** and will be **removed** from the system catalog:\n",
    "\n",
    "- `operational_data`\n",
    "- `lineage`\n",
    "- `access_preview`\n",
    "- `billing_preview`\n",
    "\n",
    "🔍 For the list of current system schemas and tables, refer to:  \n",
    "**[Monitor account activity with system tables](https://docs.databricks.com/aws/en/admin/system-tables)**\n",
    "\n",
    "---\n",
    "\n",
    "## 🧩 Uses of System Schemas\n",
    "\n",
    "System schemas in Databricks are essential for monitoring and governance tasks, including:\n",
    "\n",
    "- **Tracking Account Activity**: Monitor user actions, job runs, and notebook executions.\n",
    "- **Data Lineage and Access Auditing**: Understand how data flows through pipelines and who accessed what.\n",
    "- **Cost and Usage Insights**: Analyze billing-related metrics and usage across workspaces.\n",
    "- **Operational Monitoring**: Observe system health, query performance, and compute resource consumption.\n",
    "\n",
    "These schemas help maintain compliance, optimize performance, and improve visibility across your Databricks environment.\n"
   ]
  },
  {
   "cell_type": "markdown",
   "metadata": {
    "application/vnd.databricks.v1+cell": {
     "cellMetadata": {},
     "inputWidgets": {},
     "nuid": "1ea400e3-1943-422b-a4c9-b38e2ebf08a3",
     "showTitle": false,
     "tableResultSettingsMap": {},
     "title": ""
    }
   },
   "source": [
    "# Deprecation Notice: Legacy Dashboards\n",
    "\n",
    "Official support for legacy dashboards has ended. You can no longer create or clone legacy dashboards using the UI or API. Databricks will continue addressing critical security issues and service outages but recommends using **AI/BI dashboards** for all new development.\n"
   ]
  },
  {
   "cell_type": "code",
   "execution_count": 0,
   "metadata": {
    "application/vnd.databricks.v1+cell": {
     "cellMetadata": {},
     "inputWidgets": {},
     "nuid": "4f81488b-4019-4577-8cd1-bf6f21ab7e0b",
     "showTitle": false,
     "tableResultSettingsMap": {},
     "title": ""
    }
   },
   "outputs": [],
   "source": []
  }
 ],
 "metadata": {
  "application/vnd.databricks.v1+notebook": {
   "computePreferences": null,
   "dashboards": [],
   "environmentMetadata": {
    "base_environment": "",
    "environment_version": "2"
   },
   "inputWidgetPreferences": null,
   "language": "python",
   "notebookMetadata": {
    "pythonIndentUnit": 4
   },
   "notebookName": "Deprecation notice",
   "widgets": {}
  },
  "language_info": {
   "name": "python"
  }
 },
 "nbformat": 4,
 "nbformat_minor": 0
}